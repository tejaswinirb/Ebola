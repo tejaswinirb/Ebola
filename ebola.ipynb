{
  "nbformat": 4,
  "nbformat_minor": 0,
  "metadata": {
    "colab": {
      "provenance": []
    },
    "kernelspec": {
      "name": "python3",
      "display_name": "Python 3"
    },
    "language_info": {
      "name": "python"
    }
  },
  "cells": [
    {
      "cell_type": "code",
      "source": [
        "import pandas as pd\n",
        "\n",
        "# Load the data from the CSV file\n",
        "data = pd.read_csv(\"/content/bats.csv\")\n",
        "\n",
        "# Calculate the chance of a random bat carrying the Ebola virus\n",
        "ebola_chance = data[\"Ebola\"].mean()\n",
        "print(f\"Chance of a random bat carrying Ebola: {ebola_chance:.2%}\")\n",
        "\n",
        "# Calculate the likelihood of each gene being expressed\n",
        "genes = [\"Gene1\", \"Gene2\", \"Gene3\", \"Gene4\"]\n",
        "gene_likelihoods = data[genes].mean()\n",
        "for gene, likelihood in gene_likelihoods.items():\n",
        "    print(f\"Likelihood of {gene} being expressed: {likelihood:.2%}\")\n",
        "\n",
        "# Calculate the likelihood of carrying Ebola based on the presence of each gene\n",
        "for gene in genes:\n",
        "    ebola_by_gene = data.groupby(gene)[\"Ebola\"].mean()\n",
        "    print(f\"Likelihood of carrying Ebola given {gene}:\")\n",
        "    print(ebola_by_gene)\n",
        "\n",
        "# Check if the presence or absence of any gene is indicative of carrying Ebola\n",
        "significant_genes = []\n",
        "for gene in genes:\n",
        "    ebola_by_gene = data.groupby(gene)[\"Ebola\"].mean()\n",
        "    if ebola_by_gene.min() < ebola_chance and ebola_by_gene.max() > ebola_chance:\n",
        "        significant_genes.append(gene)\n",
        "\n",
        "if significant_genes:\n",
        "    print(\"Genes indicative of carrying Ebola:\")\n",
        "    print(significant_genes)\n",
        "else:\n",
        "    print(\"No genes are indicative of carrying Ebola.\")\n"
      ],
      "metadata": {
        "id": "MSe8ZKmj4MDZ"
      },
      "execution_count": null,
      "outputs": []
    }
  ]
}